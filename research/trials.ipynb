{
 "cells": [
  {
   "cell_type": "code",
   "execution_count": 18,
   "id": "33a8655d",
   "metadata": {},
   "outputs": [
    {
     "name": "stdout",
     "output_type": "stream",
     "text": [
      "ConfigBox test: val and val1\n"
     ]
    }
   ],
   "source": [
    "from box import ConfigBox\n",
    "\n",
    "# Test ConfigBox functionality\n",
    "d2 = ConfigBox({\"key\":\"val\", \"key1\":\"val1\"})\n",
    "print(f\"ConfigBox test: {d2.key} and {d2.key1}\")\n"
   ]
  },
  {
   "cell_type": "code",
   "execution_count": 19,
   "id": "cc305b80",
   "metadata": {},
   "outputs": [
    {
     "data": {
      "text/plain": [
       "'val'"
      ]
     },
     "execution_count": 19,
     "metadata": {},
     "output_type": "execute_result"
    }
   ],
   "source": [
    "d2.key"
   ]
  },
  {
   "cell_type": "code",
   "execution_count": 20,
   "id": "6ca53e51",
   "metadata": {},
   "outputs": [
    {
     "data": {
      "text/plain": [
       "'val1'"
      ]
     },
     "execution_count": 20,
     "metadata": {},
     "output_type": "execute_result"
    }
   ],
   "source": [
    "d2.key1"
   ]
  },
  {
   "cell_type": "code",
   "execution_count": 21,
   "id": "bf7a10d0",
   "metadata": {},
   "outputs": [
    {
     "data": {
      "text/plain": [
       "box.config_box.ConfigBox"
      ]
     },
     "execution_count": 21,
     "metadata": {},
     "output_type": "execute_result"
    }
   ],
   "source": [
    "type(d2)\n"
   ]
  },
  {
   "cell_type": "code",
   "execution_count": 22,
   "id": "8f8d6a68",
   "metadata": {},
   "outputs": [],
   "source": [
    "from ensure import ensure_annotations"
   ]
  },
  {
   "cell_type": "code",
   "execution_count": 23,
   "id": "8a49c4fe",
   "metadata": {},
   "outputs": [],
   "source": [
    "@ensure_annotations\n",
    "def get_prodict(x:int, y:int) -> int:\n",
    "    return x*y"
   ]
  },
  {
   "cell_type": "code",
   "execution_count": 24,
   "id": "7429fdc0",
   "metadata": {},
   "outputs": [
    {
     "data": {
      "text/plain": [
       "6"
      ]
     },
     "execution_count": 24,
     "metadata": {},
     "output_type": "execute_result"
    }
   ],
   "source": [
    "get_prodict(x=2, y=3)"
   ]
  },
  {
   "cell_type": "code",
   "execution_count": 25,
   "id": "7b4d5124",
   "metadata": {},
   "outputs": [
    {
     "ename": "EnsureError",
     "evalue": "Argument y of type <class 'str'> to <function get_prodict at 0x1147e5ee0> does not match annotation type <class 'int'>",
     "output_type": "error",
     "traceback": [
      "\u001b[0;31m---------------------------------------------------------------------------\u001b[0m",
      "\u001b[0;31mEnsureError\u001b[0m                               Traceback (most recent call last)",
      "\u001b[0;32m/var/folders/1n/7mflr75n3hj_s82sbfc9st9w0000gn/T/ipykernel_4035/1824290168.py\u001b[0m in \u001b[0;36m<cell line: 1>\u001b[0;34m()\u001b[0m\n\u001b[0;32m----> 1\u001b[0;31m \u001b[0mget_prodict\u001b[0m\u001b[0;34m(\u001b[0m\u001b[0mx\u001b[0m\u001b[0;34m=\u001b[0m\u001b[0;36m2\u001b[0m\u001b[0;34m,\u001b[0m \u001b[0my\u001b[0m\u001b[0;34m=\u001b[0m\u001b[0;34m\"3\"\u001b[0m\u001b[0;34m)\u001b[0m\u001b[0;34m\u001b[0m\u001b[0;34m\u001b[0m\u001b[0m\n\u001b[0m",
      "\u001b[0;32m~/miniconda3/envs/kidney/lib/python3.9/site-packages/ensure/main.py\u001b[0m in \u001b[0;36m__call__\u001b[0;34m(self, *args, **kwargs)\u001b[0m\n\u001b[1;32m    843\u001b[0m                     \u001b[0;34m\"does not match annotation type {t}\"\u001b[0m\u001b[0;34m\u001b[0m\u001b[0;34m\u001b[0m\u001b[0m\n\u001b[1;32m    844\u001b[0m                 )\n\u001b[0;32m--> 845\u001b[0;31m                 raise EnsureError(msg.format(\n\u001b[0m\u001b[1;32m    846\u001b[0m                     \u001b[0marg\u001b[0m\u001b[0;34m=\u001b[0m\u001b[0marg\u001b[0m\u001b[0;34m,\u001b[0m \u001b[0mf\u001b[0m\u001b[0;34m=\u001b[0m\u001b[0mself\u001b[0m\u001b[0;34m.\u001b[0m\u001b[0mf\u001b[0m\u001b[0;34m,\u001b[0m \u001b[0mt\u001b[0m\u001b[0;34m=\u001b[0m\u001b[0mtempl\u001b[0m\u001b[0;34m,\u001b[0m \u001b[0mvalt\u001b[0m\u001b[0;34m=\u001b[0m\u001b[0mtype\u001b[0m\u001b[0;34m(\u001b[0m\u001b[0mvalue\u001b[0m\u001b[0;34m)\u001b[0m\u001b[0;34m\u001b[0m\u001b[0;34m\u001b[0m\u001b[0m\n\u001b[1;32m    847\u001b[0m                 ))\n",
      "\u001b[0;31mEnsureError\u001b[0m: Argument y of type <class 'str'> to <function get_prodict at 0x1147e5ee0> does not match annotation type <class 'int'>"
     ]
    }
   ],
   "source": [
    "get_prodict(x=2, y=\"3\")"
   ]
  },
  {
   "cell_type": "code",
   "execution_count": 32,
   "id": "1b891ea4",
   "metadata": {},
   "outputs": [],
   "source": [
    "import gdown\n",
    "#try:\n",
    "#    import gdown\n",
    "#    print(\"Successfully imported gdown\")\n",
    "#except ImportError:\n",
    "#    print(\"Installing gdown package...\")\n",
    "#    import subprocess\n",
    "#    import sys\n",
    "#    subprocess.check_call([sys.executable, \"-m\", \"pip\", \"install\", \"gdown\"])\n",
    "#    import gdown\n",
    "#    print(\"Successfully imported gdown after installation\")\n",
    "\n",
    "# Test gdown functionality\n",
    "#print(f\"gdown version: {gdown.__version__}\")"
   ]
  },
  {
   "cell_type": "code",
   "execution_count": null,
   "id": "0c0807cd",
   "metadata": {},
   "outputs": [
    {
     "name": "stdout",
     "output_type": "stream",
     "text": [
      "Something is happening BEFORE the function is called.\n",
      "Hello!\n",
      "Something is happening AFTER the function is called.\n",
      "\n",
      "==================================================\n",
      "\n",
      "Function slow_function took 1.0051 seconds\n",
      "Result: Done!\n"
     ]
    }
   ],
   "source": [
    "# Simple Decorator Example\n",
    "\n",
    "# 1. Basic decorator that adds functionality\n",
    "def my_decorator(func):\n",
    "    def wrapper():\n",
    "        print(\"Something is happening BEFORE the function is called.\")\n",
    "        func()\n",
    "        print(\"Something is happening AFTER the function is called.\")\n",
    "    return wrapper\n",
    "\n",
    "# 2. Using the decorator\n",
    "@my_decorator\n",
    "def say_hello():\n",
    "    print(\"Hello!\")\n",
    "\n",
    "# 3. Call the decorated function\n",
    "say_hello()\n",
    "\n",
    "print(\"\\n\" + \"=\"*50 + \"\\n\")\n",
    "\n",
    "# 4. Another example - Timer decorator\n",
    "import time\n",
    "\n",
    "def timer(func):\n",
    "    def wrapper(*args, **kwargs):\n",
    "        start_time = time.time()\n",
    "        result = func(*args, **kwargs)\n",
    "        end_time = time.time()\n",
    "        print(f\"Function {func.__name__} took {end_time - start_time:.4f} seconds\")\n",
    "        return result\n",
    "    return wrapper\n",
    "\n",
    "@timer\n",
    "def slow_function():\n",
    "    time.sleep(1)  # Simulate slow operation\n",
    "    return \"Done!\"\n",
    "\n",
    "result = slow_function()\n",
    "print(f\"Result: {result}\")\n",
    "\"\"\"\n"
   ]
  },
  {
   "cell_type": "code",
   "execution_count": null,
   "id": "aca9c94b",
   "metadata": {},
   "outputs": [],
   "source": [
    "# HOW TO COMMENT CODE - EXAMPLES\n",
    "\n",
    "# Method 1: Single line comments with #\n",
    "# This line is commented out\n",
    "# print(\"This won't run\")\n",
    "\n",
    "# Method 2: Comment at end of line\n",
    "x = 10  # This is a comment explaining what x does\n",
    "\n",
    "# Method 3: Multiple lines of comments\n",
    "# This is a multi-line comment\n",
    "# explaining a complex section\n",
    "# of code below\n",
    "\n",
    "# Method 4: Triple quotes for long explanations\n",
    "\"\"\"\n",
    "This is a long comment using triple quotes.\n",
    "You can write multiple lines here.\n",
    "It's commonly used for:\n",
    "- Function documentation\n",
    "- Class descriptions\n",
    "- Long explanations\n",
    "\"\"\"\n",
    "\n",
    "# Example of commented code block:\n",
    "# def old_function():\n",
    "#     print(\"This function is commented out\")\n",
    "#     return \"old result\"\n",
    "\n",
    "# Active code (not commented):\n",
    "def new_function():\n",
    "    print(\"This function is active\")\n",
    "    return \"new result\"\n",
    "\n",
    "print(new_function())\n",
    "\n",
    "print(\"\\n\" + \"=\"*40)\n",
    "print(\"QUICK TIP: Use Cmd+/ (Mac) or Ctrl+/ (Windows) to quickly comment/uncomment selected lines!\")\n"
   ]
  }
 ],
 "metadata": {
  "kernelspec": {
   "display_name": "kidney",
   "language": "python",
   "name": "python3"
  },
  "language_info": {
   "codemirror_mode": {
    "name": "ipython",
    "version": 3
   },
   "file_extension": ".py",
   "mimetype": "text/x-python",
   "name": "python",
   "nbconvert_exporter": "python",
   "pygments_lexer": "ipython3",
   "version": "3.9.23"
  }
 },
 "nbformat": 4,
 "nbformat_minor": 5
}
