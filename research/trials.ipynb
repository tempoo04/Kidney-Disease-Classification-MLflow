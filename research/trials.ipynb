{
 "cells": [
  {
   "cell_type": "code",
   "execution_count": 55,
   "id": "33a8655d",
   "metadata": {},
   "outputs": [
    {
     "name": "stdout",
     "output_type": "stream",
     "text": [
      "ConfigBox test: val and val1\n"
     ]
    }
   ],
   "source": [
    "from box import ConfigBox\n",
    "\n",
    "# Test ConfigBox functionality\n",
    "d2 = ConfigBox({\"key\":\"val\", \"key1\":\"val1\"})\n",
    "print(f\"ConfigBox test: {d2.key} and {d2.key1}\")\n"
   ]
  },
  {
   "cell_type": "code",
   "execution_count": 56,
   "id": "cc305b80",
   "metadata": {},
   "outputs": [
    {
     "data": {
      "text/plain": [
       "'val'"
      ]
     },
     "execution_count": 56,
     "metadata": {},
     "output_type": "execute_result"
    }
   ],
   "source": [
    "d2.key"
   ]
  },
  {
   "cell_type": "code",
   "execution_count": 57,
   "id": "6ca53e51",
   "metadata": {},
   "outputs": [
    {
     "data": {
      "text/plain": [
       "'val1'"
      ]
     },
     "execution_count": 57,
     "metadata": {},
     "output_type": "execute_result"
    }
   ],
   "source": [
    "d2.key1"
   ]
  },
  {
   "cell_type": "code",
   "execution_count": 58,
   "id": "bf7a10d0",
   "metadata": {},
   "outputs": [
    {
     "data": {
      "text/plain": [
       "box.config_box.ConfigBox"
      ]
     },
     "execution_count": 58,
     "metadata": {},
     "output_type": "execute_result"
    }
   ],
   "source": [
    "type(d2)\n"
   ]
  },
  {
   "cell_type": "code",
   "execution_count": 59,
   "id": "8f8d6a68",
   "metadata": {},
   "outputs": [],
   "source": [
    "from ensure import ensure_annotations"
   ]
  },
  {
   "cell_type": "code",
   "execution_count": 60,
   "id": "8a49c4fe",
   "metadata": {},
   "outputs": [],
   "source": [
    "@ensure_annotations\n",
    "def get_prodict(x:int, y:int) -> int:\n",
    "    return x*y"
   ]
  },
  {
   "cell_type": "code",
   "execution_count": 61,
   "id": "7429fdc0",
   "metadata": {},
   "outputs": [
    {
     "data": {
      "text/plain": [
       "6"
      ]
     },
     "execution_count": 61,
     "metadata": {},
     "output_type": "execute_result"
    }
   ],
   "source": [
    "get_prodict(x=2, y=3)"
   ]
  },
  {
   "cell_type": "code",
   "execution_count": 62,
   "id": "7b4d5124",
   "metadata": {},
   "outputs": [],
   "source": [
    "#get_prodict(x=2, y=\"3\")"
   ]
  },
  {
   "cell_type": "code",
   "execution_count": 63,
   "id": "1b891ea4",
   "metadata": {},
   "outputs": [],
   "source": [
    "import gdown\n",
    "#try:\n",
    "#    import gdown\n",
    "#    print(\"Successfully imported gdown\")\n",
    "#except ImportError:\n",
    "#    print(\"Installing gdown package...\")\n",
    "#    import subprocess\n",
    "#    import sys\n",
    "#    subprocess.check_call([sys.executable, \"-m\", \"pip\", \"install\", \"gdown\"])\n",
    "#    import gdown\n",
    "#    print(\"Successfully imported gdown after installation\")\n",
    "\n",
    "# Test gdown functionality\n",
    "#print(f\"gdown version: {gdown.__version__}\")"
   ]
  },
  {
   "cell_type": "code",
   "execution_count": 64,
   "id": "0c0807cd",
   "metadata": {},
   "outputs": [
    {
     "data": {
      "text/plain": [
       "'\\n# Simple Decorator Example\\n\\n# 1. Basic decorator that adds functionality\\ndef my_decorator(func):\\n    def wrapper():\\n        print(\"Something is happening BEFORE the function is called.\")\\n        func()\\n        print(\"Something is happening AFTER the function is called.\")\\n    return wrapper\\n\\n# 2. Using the decorator\\n@my_decorator\\ndef say_hello():\\n    print(\"Hello!\")\\n\\n# 3. Call the decorated function\\nsay_hello()\\n\\nprint(\"\\n\" + \"=\"*50 + \"\\n\")\\n\\n# 4. Another example - Timer decorator\\nimport time\\n\\ndef timer(func):\\n    def wrapper(*args, **kwargs):\\n        start_time = time.time()\\n        result = func(*args, **kwargs)\\n        end_time = time.time()\\n        print(f\"Function {func.__name__} took {end_time - start_time:.4f} seconds\")\\n        return result\\n    return wrapper\\n\\n@timer\\ndef slow_function():\\n    time.sleep(1)  # Simulate slow operation\\n    return \"Done!\"\\n\\nresult = slow_function()\\nprint(f\"Result: {result}\")\\n'"
      ]
     },
     "execution_count": 64,
     "metadata": {},
     "output_type": "execute_result"
    }
   ],
   "source": [
    "\"\"\"\n",
    "# Simple Decorator Example\n",
    "\n",
    "# 1. Basic decorator that adds functionality\n",
    "def my_decorator(func):\n",
    "    def wrapper():\n",
    "        print(\"Something is happening BEFORE the function is called.\")\n",
    "        func()\n",
    "        print(\"Something is happening AFTER the function is called.\")\n",
    "    return wrapper\n",
    "\n",
    "# 2. Using the decorator\n",
    "@my_decorator\n",
    "def say_hello():\n",
    "    print(\"Hello!\")\n",
    "\n",
    "# 3. Call the decorated function\n",
    "say_hello()\n",
    "\n",
    "print(\"\\n\" + \"=\"*50 + \"\\n\")\n",
    "\n",
    "# 4. Another example - Timer decorator\n",
    "import time\n",
    "\n",
    "def timer(func):\n",
    "    def wrapper(*args, **kwargs):\n",
    "        start_time = time.time()\n",
    "        result = func(*args, **kwargs)\n",
    "        end_time = time.time()\n",
    "        print(f\"Function {func.__name__} took {end_time - start_time:.4f} seconds\")\n",
    "        return result\n",
    "    return wrapper\n",
    "\n",
    "@timer\n",
    "def slow_function():\n",
    "    time.sleep(1)  # Simulate slow operation\n",
    "    return \"Done!\"\n",
    "\n",
    "result = slow_function()\n",
    "print(f\"Result: {result}\")\n",
    "\"\"\"\n"
   ]
  },
  {
   "cell_type": "code",
   "execution_count": 65,
   "id": "77a1e3b5",
   "metadata": {},
   "outputs": [],
   "source": [
    "url=\"https://drive.google.com/file/d/1vlhZ5c7abUKF8xXERIw6m9Te8fW7ohw3/view?usp=sharing\""
   ]
  },
  {
   "cell_type": "code",
   "execution_count": null,
   "id": "37d5d8e0",
   "metadata": {},
   "outputs": [],
   "source": [
    "\n"
   ]
  },
  {
   "cell_type": "code",
   "execution_count": null,
   "id": "00845f85",
   "metadata": {},
   "outputs": [],
   "source": [
    "\n"
   ]
  },
  {
   "cell_type": "code",
   "execution_count": 66,
   "id": "cc4f0a64",
   "metadata": {},
   "outputs": [
    {
     "data": {
      "text/plain": [
       "'1vlhZ5c7abUKF8xXERIw6m9Te8fW7ohw3'"
      ]
     },
     "execution_count": 66,
     "metadata": {},
     "output_type": "execute_result"
    }
   ],
   "source": [
    "file_id = url.split(\"/\")[-2]\n",
    "file_id"
   ]
  },
  {
   "cell_type": "code",
   "execution_count": 67,
   "id": "17a89b45",
   "metadata": {},
   "outputs": [
    {
     "name": "stderr",
     "output_type": "stream",
     "text": [
      "Downloading...\n",
      "From (original): https://drive.google.com/uc?/export=download&id=1vlhZ5c7abUKF8xXERIw6m9Te8fW7ohw3\n",
      "From (redirected): https://drive.google.com/uc?%2Fexport=download&id=1vlhZ5c7abUKF8xXERIw6m9Te8fW7ohw3&confirm=t&uuid=de16d98b-0197-41ef-9f7a-e905972a5a4a\n",
      "To: /Users/baljindersingh/Desktop/Joint Project/Kidney-Disease-Classification-MLflow/research/kidney-CT-Scan-data.zip\n",
      "100%|██████████| 57.7M/57.7M [00:02<00:00, 19.4MB/s]\n"
     ]
    },
    {
     "data": {
      "text/plain": [
       "'kidney-CT-Scan-data.zip'"
      ]
     },
     "execution_count": 67,
     "metadata": {},
     "output_type": "execute_result"
    }
   ],
   "source": [
    "prefix = 'https://drive.google.com/uc?/export=download&id='\n",
    "gdown.download(prefix+file_id, \"kidney-CT-Scan-data.zip\")"
   ]
  }
 ],
 "metadata": {
  "kernelspec": {
   "display_name": "kidney",
   "language": "python",
   "name": "python3"
  },
  "language_info": {
   "codemirror_mode": {
    "name": "ipython",
    "version": 3
   },
   "file_extension": ".py",
   "mimetype": "text/x-python",
   "name": "python",
   "nbconvert_exporter": "python",
   "pygments_lexer": "ipython3",
   "version": "3.9.23"
  }
 },
 "nbformat": 4,
 "nbformat_minor": 5
}
